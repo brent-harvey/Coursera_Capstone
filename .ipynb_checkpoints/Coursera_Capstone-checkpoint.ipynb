{
 "cells": [
  {
   "cell_type": "markdown",
   "metadata": {},
   "source": [
    "<h1>Applied Data Science Capstone Project Notebook</h1>\n",
    "<p>This notebook will be mainly used for the Applied Data Science capstone project.</p>"
   ]
  },
  {
   "cell_type": "markdown",
   "metadata": {},
   "source": [
    "<H1>Introduction/Business Problem</H1>\n",
    "\n",
    "I will be comparing neighborhoods across two cities (Atlanta and New York) to identify similar neighborhoods in the two cities, as well as identify neighborhoods that are \"unique\" to each city.  This comparison could be used by people intending to move from one city to the other wishing to identify neighborhoods similar to those they are familiar with"
   ]
  },
  {
   "cell_type": "markdown",
   "metadata": {},
   "source": [
    "<H1>Data</H1>\n",
    "In addition to the New York Neighborhood location data provided in week 3, I will be using Atlanta Neighborhood location data from the City of Atlanta (https://www.atlantaga.gov/government/departments/city-planning/atl-gis-city-of-atlanta-geographic-information-systems) and the Foursquare API to retrieve venue information for each neighborhood"
   ]
  },
  {
   "cell_type": "code",
   "execution_count": null,
   "metadata": {},
   "outputs": [],
   "source": []
  }
 ],
 "metadata": {
  "kernelspec": {
   "display_name": "Python 3",
   "language": "python",
   "name": "python3"
  },
  "language_info": {
   "codemirror_mode": {
    "name": "ipython",
    "version": 3
   },
   "file_extension": ".py",
   "mimetype": "text/x-python",
   "name": "python",
   "nbconvert_exporter": "python",
   "pygments_lexer": "ipython3",
   "version": "3.7.4"
  }
 },
 "nbformat": 4,
 "nbformat_minor": 2
}
